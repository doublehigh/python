{
  "cells": [
    {
      "cell_type": "markdown",
      "metadata": {
        "id": "view-in-github",
        "colab_type": "text"
      },
      "source": [
        "<a href=\"https://colab.research.google.com/github/doublehigh/python/blob/main/ibrahim.ipynb\" target=\"_parent\"><img src=\"https://colab.research.google.com/assets/colab-badge.svg\" alt=\"Open In Colab\"/></a>"
      ]
    },
    {
      "cell_type": "markdown",
      "metadata": {
        "id": "eIuk7bn3-g90"
      },
      "source": [
        "Assignment 1 Instructions: Provide your answers in the code block below each question. Use the words appearing in bold font in each question as the variable names."
      ]
    },
    {
      "cell_type": "markdown",
      "source": [
        "# New section"
      ],
      "metadata": {
        "id": "ur8YS1QxDMHJ"
      }
    },
    {
      "cell_type": "markdown",
      "source": [
        "Question 1: The ages of five students named A, B, C, D and E are given as 17, 18, 19, 20 and 21 respectively. Using basic expressions in Python, find their average age. Also find the quotient and the remainder when the age of student A is used to divide that of student E."
      ],
      "metadata": {
        "id": "WnGKOFHarWH4"
      }
    },
    {
      "cell_type": "code",
      "source": [
        "# Declare the ages of students A, B, C, D, and E\n",
        "A = 17\n",
        "B = 18\n",
        "C = 19\n",
        "D = 20\n",
        "E = 21\n",
        "\n",
        "# Calculate the average age\n",
        "average = (A + B + C + D + E) / 5\n",
        "\n",
        "# Calculate the quotient and remainder when E is divided by A\n",
        "quotient = E // A\n",
        "remainder = E % A\n",
        "\n",
        "print(\"The average age is:\", average)\n",
        "print(\"The quotient is:\", quotient)\n",
        "print(\"The remainder is:\", remainder)"
      ],
      "metadata": {
        "id": "7FhvJgOHrU__",
        "colab": {
          "base_uri": "https://localhost:8080/"
        },
        "outputId": "9e0b5a79-6f41-4721-f123-434a1954d71d"
      },
      "execution_count": null,
      "outputs": [
        {
          "output_type": "stream",
          "name": "stdout",
          "text": [
            "The average age is: 19.0\n",
            "The quotient is: 1\n",
            "The remainder is: 4\n"
          ]
        }
      ]
    },
    {
      "cell_type": "markdown",
      "metadata": {
        "id": "mJwdiMg1-hjC"
      },
      "source": [
        "\n",
        "Question 2: You are required to find the difference between the cosine and the sine of an angle y. Write the Python code to compute this difference when y is 45 degrees"
      ]
    },
    {
      "cell_type": "code",
      "execution_count": null,
      "metadata": {
        "id": "Hv_AaDRz-iRg",
        "colab": {
          "base_uri": "https://localhost:8080/"
        },
        "outputId": "824d6131-a73d-4696-fcc1-108d7ad04ac4"
      },
      "outputs": [
        {
          "output_type": "stream",
          "name": "stdout",
          "text": [
            "The difference between cosine and sine of 45 degrees is: 1.1102230246251565e-16\n"
          ]
        }
      ],
      "source": [
        "\n",
        "import math\n",
        "\n",
        "# Angle in degrees\n",
        "y_degrees = 45\n",
        "\n",
        "# Convert the angle to radians\n",
        "y_radians = math.radians(y_degrees)\n",
        "\n",
        "# Compute cosine and sine\n",
        "cos_y = math.cos(y_radians)\n",
        "sin_y = math.sin(y_radians)\n",
        "\n",
        "# Calculate the difference between cosine and sine\n",
        "difference = cos_y - sin_y\n",
        "\n",
        "print(\"The difference between cosine and sine of 45 degrees is:\", difference)"
      ]
    },
    {
      "cell_type": "markdown",
      "metadata": {
        "id": "M9b5BLAk7VPl"
      },
      "source": [
        "**Question 3:** **X** is an array having six floating point numbers that are linearly spaced between 5 and 7.5, both inclusive. Plot the straight line **Y = 5X + 6** using Python."
      ]
    },
    {
      "cell_type": "code",
      "execution_count": null,
      "metadata": {
        "id": "lZj_cf436wDk",
        "colab": {
          "base_uri": "https://localhost:8080/",
          "height": 280
        },
        "outputId": "dd656b2d-a4f0-419f-85f0-d6cf69b5db17"
      },
      "outputs": [
        {
          "output_type": "display_data",
          "data": {
            "text/plain": [
              "<Figure size 640x480 with 1 Axes>"
            ],
            "image/png": "[encoded data removed]"
          },
          "metadata": {}
        }
      ],
      "source": [
        "\n",
        "import numpy as np\n",
        "import matplotlib.pyplot as plt\n",
        "\n",
        "# Create an array X of 6 floating point numbers between 5 and 7.5\n",
        "X = np.linspace(5, 7.5, 6)\n",
        "\n",
        "# Calculate Y using the formula Y = 5X + 6\n",
        "Y = 5 * X + 6\n",
        "\n",
        "# Plot the line\n",
        "plt.plot(X, Y, marker='x')\n",
        "plt.title(\"Line: Y = 5X + 6\")\n",
        "plt.xlabel(\"X\")\n",
        "plt.ylabel(\"Y\")\n",
        "plt.grid(True)\n",
        "plt.show()"
      ]
    }
  ],
  "metadata": {
    "colab": {
      "provenance": [],
      "include_colab_link": true
    },
    "kernelspec": {
      "display_name": "Python 3",
      "name": "python3"
    },
    "language_info": {
      "name": "python"
    }
  },
  "nbformat": 4,
  "nbformat_minor": 0
}